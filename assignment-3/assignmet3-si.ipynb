{
 "cells": [
  {
   "attachments": {},
   "cell_type": "markdown",
   "metadata": {},
   "source": [
    "## **Assignment 3 - Systematic Investments**\n",
    "\n",
    "### **Predicting the Equity Premium**\n",
    "\n",
    "53127 - Miguel Teodoro\n"
   ]
  },
  {
   "cell_type": "code",
   "execution_count": 1,
   "metadata": {},
   "outputs": [],
   "source": [
    "import pandas as pd\n",
    "import numpy as np\n",
    "import openpyxl\n",
    "import matplotlib.pyplot as plt"
   ]
  },
  {
   "cell_type": "code",
   "execution_count": 2,
   "metadata": {},
   "outputs": [],
   "source": [
    "def plot_cumulative_returns(df, column1, column2, label1, label2):\n",
    "    \"\"\"\n",
    "    Plots the cumulative returns of two logarithmic return columns in a pandas dataframe.\n",
    "    \"\"\"\n",
    "\n",
    "    plt.rcParams[\"figure.figsize\"] = (10,8)\n",
    "\n",
    "    # Calculate the cumulative sum of the logarithmic returns for each column\n",
    "    cumulative_return1 = (1 + df[column1]).cumprod() - 1\n",
    "    cumulative_return2 = (1 + df[column2]).cumprod() - 1\n",
    "\n",
    "    # Get the dates for each cumulative return\n",
    "    dates = df['yyyymm']\n",
    "\n",
    "    # Plot the cumulative returns for each column\n",
    "    plt.plot(dates, cumulative_return1, label=label1, color=\"seagreen\")\n",
    "    plt.plot(dates, cumulative_return2, label=label2, color=\"royalblue\")\n",
    "\n",
    "    # Add a legend and title to the plot\n",
    "    plt.legend()\n",
    "    plt.title(\"Cumulative Returns of {} and {}\".format(label1, label2))\n",
    "\n",
    "    # Show the plot\n",
    "    plt.show()"
   ]
  },
  {
   "cell_type": "code",
   "execution_count": 3,
   "metadata": {},
   "outputs": [],
   "source": [
    "data = pd.read_excel('data_assignment3_si.xlsx')"
   ]
  },
  {
   "cell_type": "code",
   "execution_count": 4,
   "metadata": {},
   "outputs": [],
   "source": [
    "from datetime import datetime\n",
    "\n",
    "data['yyyymm'] = pd.to_datetime(data.yyyymm, format=\"%Y%m\")"
   ]
  },
  {
   "cell_type": "code",
   "execution_count": 5,
   "metadata": {},
   "outputs": [],
   "source": [
    "data_original = data.copy()\n",
    "data = data.iloc[:,:4]"
   ]
  },
  {
   "attachments": {},
   "cell_type": "markdown",
   "metadata": {},
   "source": [
    "### **1.** What is the root mean squared error (RMSE) of your forecast versus the RMSE of a forecasts based on the historical mean return?"
   ]
  },
  {
   "cell_type": "code",
   "execution_count": 6,
   "metadata": {},
   "outputs": [],
   "source": [
    "# Transform dividends and earnings to monthly data\n",
    "\n",
    "data['D12'] = data['D12']/12\n",
    "data['E12'] = data['E12']/12"
   ]
  },
  {
   "cell_type": "code",
   "execution_count": 7,
   "metadata": {},
   "outputs": [],
   "source": [
    "# Create 20 year moving average to predict earnings growth\n",
    "\n",
    "# Create earnings growth column\n",
    "data['EG'] =  data['E12'].pct_change()\n",
    "\n",
    "# Create MA column\n",
    "data['EG_MA'] = data.EG.rolling(window=12*20, closed='left').mean()"
   ]
  },
  {
   "cell_type": "code",
   "execution_count": 8,
   "metadata": {},
   "outputs": [],
   "source": [
    "# Calculate DP as ln(1 + current DP)\n",
    "\n",
    "# Create current DP column\n",
    "data['DP'] = data['D12']/data['Index']\n",
    "\n",
    "# Create DP estimation\n",
    "data['est_DP'] = np.log(1+ data['DP'].shift(1))"
   ]
  },
  {
   "cell_type": "code",
   "execution_count": 9,
   "metadata": {},
   "outputs": [],
   "source": [
    "# Create 5 year moving average to predict PE Ratio Growth\n",
    "\n",
    "# Create Price-to-Earnings column\n",
    "data['PE'] =  data['Index']/data['E12']\n",
    "\n",
    "# Create Price-to-Earnings Growth column\n",
    "data['PEG'] = data.PE.pct_change()\n",
    "\n",
    "# Create MA PE column\n",
    "data['PE_MA'] = data.PE.rolling(window=12*5, closed='left').mean()\n",
    "\n",
    "# Create PE Growth Estimate column\n",
    "data['est_PEG'] = ((data['PE_MA'].shift(1) / data['PE'].shift(1)) - 1) / (12*5)"
   ]
  },
  {
   "cell_type": "code",
   "execution_count": 10,
   "metadata": {},
   "outputs": [],
   "source": [
    "# Compute simple return calculation function with assumption that PER Growth = 0\n",
    "\n",
    "def simple_return_forecast(obs):\n",
    "    dp_ratio = obs['est_DP']\n",
    "    e_growth = obs['EG_MA']\n",
    "    pe_ratio_growth = 0\n",
    "    return_t1 = ((1+dp_ratio) * (1+e_growth) * (1+pe_ratio_growth)) - 1\n",
    "    return return_t1"
   ]
  },
  {
   "cell_type": "code",
   "execution_count": 11,
   "metadata": {},
   "outputs": [],
   "source": [
    "# Compute return calculation with assumption that PER mean-reverts\n",
    "\n",
    "def mr_return_forecast(obs):\n",
    "    dp_ratio = obs['est_DP']\n",
    "    e_growth = obs['EG_MA']\n",
    "    pe_ratio_growth = obs['est_PEG']\n",
    "    return_t1 = ((1+dp_ratio) * (1+e_growth) * (1+pe_ratio_growth)) - 1\n",
    "    return return_t1"
   ]
  },
  {
   "cell_type": "code",
   "execution_count": 12,
   "metadata": {},
   "outputs": [],
   "source": [
    "# Compute return calculation with actual values (real-time)\n",
    "\n",
    "def actual_estimate(obs):\n",
    "    dp_ratio = obs['DP']\n",
    "    e_growth = obs['EG']\n",
    "    pe_ratio_growth = obs['PEG']\n",
    "    return_t1 = ((1+dp_ratio) * (1+e_growth) * (1+pe_ratio_growth)) - 1\n",
    "    return return_t1"
   ]
  },
  {
   "cell_type": "code",
   "execution_count": 13,
   "metadata": {},
   "outputs": [],
   "source": [
    "# Apply all return calculations\n",
    "\n",
    "data['r_actual'] = np.log(data.Index) - np.log(data.Index.shift(1))\n",
    "data['simple_forecast'] = data.apply(lambda x: simple_return_forecast(x), axis=1)\n",
    "data['mr_forecast'] = data.apply(lambda x: mr_return_forecast(x), axis=1)\n",
    "data['mean20y_forecast'] = data.r_actual.rolling(window=12*20, closed='left').mean()\n",
    "data['actual_estimate'] = data.apply(lambda x: actual_estimate(x), axis=1)"
   ]
  },
  {
   "cell_type": "code",
   "execution_count": 14,
   "metadata": {},
   "outputs": [],
   "source": [
    "from sklearn.metrics import r2_score, mean_squared_error\n",
    "\n",
    "pred_data = data.dropna()"
   ]
  },
  {
   "cell_type": "code",
   "execution_count": 15,
   "metadata": {},
   "outputs": [
    {
     "data": {
      "text/html": [
       "<div>\n",
       "<style scoped>\n",
       "    .dataframe tbody tr th:only-of-type {\n",
       "        vertical-align: middle;\n",
       "    }\n",
       "\n",
       "    .dataframe tbody tr th {\n",
       "        vertical-align: top;\n",
       "    }\n",
       "\n",
       "    .dataframe thead th {\n",
       "        text-align: right;\n",
       "    }\n",
       "</style>\n",
       "<table border=\"1\" class=\"dataframe\">\n",
       "  <thead>\n",
       "    <tr style=\"text-align: right;\">\n",
       "      <th></th>\n",
       "      <th>yyyymm</th>\n",
       "      <th>Index</th>\n",
       "      <th>D12</th>\n",
       "      <th>E12</th>\n",
       "      <th>EG</th>\n",
       "      <th>EG_MA</th>\n",
       "      <th>DP</th>\n",
       "      <th>est_DP</th>\n",
       "      <th>PE</th>\n",
       "      <th>PEG</th>\n",
       "      <th>PE_MA</th>\n",
       "      <th>est_PEG</th>\n",
       "      <th>r_actual</th>\n",
       "      <th>simple_forecast</th>\n",
       "      <th>mr_forecast</th>\n",
       "      <th>mean20y_forecast</th>\n",
       "      <th>actual_estimate</th>\n",
       "    </tr>\n",
       "  </thead>\n",
       "  <tbody>\n",
       "    <tr>\n",
       "      <th>241</th>\n",
       "      <td>1891-02-01</td>\n",
       "      <td>4.90</td>\n",
       "      <td>0.018333</td>\n",
       "      <td>0.024858</td>\n",
       "      <td>0.013936</td>\n",
       "      <td>-0.001189</td>\n",
       "      <td>0.003741</td>\n",
       "      <td>0.003781</td>\n",
       "      <td>197.116996</td>\n",
       "      <td>-0.001518</td>\n",
       "      <td>210.085200</td>\n",
       "      <td>0.001111</td>\n",
       "      <td>0.012320</td>\n",
       "      <td>0.002587</td>\n",
       "      <td>0.003701</td>\n",
       "      <td>0.000359</td>\n",
       "      <td>0.016185</td>\n",
       "    </tr>\n",
       "    <tr>\n",
       "      <th>242</th>\n",
       "      <td>1891-03-01</td>\n",
       "      <td>4.81</td>\n",
       "      <td>0.018333</td>\n",
       "      <td>0.025208</td>\n",
       "      <td>0.014080</td>\n",
       "      <td>-0.001131</td>\n",
       "      <td>0.003812</td>\n",
       "      <td>0.003735</td>\n",
       "      <td>190.809917</td>\n",
       "      <td>-0.031997</td>\n",
       "      <td>209.584769</td>\n",
       "      <td>0.001096</td>\n",
       "      <td>-0.018538</td>\n",
       "      <td>0.002600</td>\n",
       "      <td>0.003699</td>\n",
       "      <td>0.000355</td>\n",
       "      <td>-0.014626</td>\n",
       "    </tr>\n",
       "    <tr>\n",
       "      <th>243</th>\n",
       "      <td>1891-04-01</td>\n",
       "      <td>4.97</td>\n",
       "      <td>0.018333</td>\n",
       "      <td>0.025558</td>\n",
       "      <td>0.013884</td>\n",
       "      <td>-0.001072</td>\n",
       "      <td>0.003689</td>\n",
       "      <td>0.003804</td>\n",
       "      <td>194.457124</td>\n",
       "      <td>0.019114</td>\n",
       "      <td>209.122829</td>\n",
       "      <td>0.001640</td>\n",
       "      <td>0.032723</td>\n",
       "      <td>0.002728</td>\n",
       "      <td>0.004373</td>\n",
       "      <td>0.000177</td>\n",
       "      <td>0.037076</td>\n",
       "    </tr>\n",
       "    <tr>\n",
       "      <th>244</th>\n",
       "      <td>1891-05-01</td>\n",
       "      <td>4.95</td>\n",
       "      <td>0.018333</td>\n",
       "      <td>0.025900</td>\n",
       "      <td>0.013368</td>\n",
       "      <td>-0.001014</td>\n",
       "      <td>0.003704</td>\n",
       "      <td>0.003682</td>\n",
       "      <td>191.119691</td>\n",
       "      <td>-0.017163</td>\n",
       "      <td>208.832747</td>\n",
       "      <td>0.001257</td>\n",
       "      <td>-0.004032</td>\n",
       "      <td>0.002664</td>\n",
       "      <td>0.003924</td>\n",
       "      <td>0.000197</td>\n",
       "      <td>-0.000335</td>\n",
       "    </tr>\n",
       "    <tr>\n",
       "      <th>245</th>\n",
       "      <td>1891-06-01</td>\n",
       "      <td>4.85</td>\n",
       "      <td>0.018333</td>\n",
       "      <td>0.026250</td>\n",
       "      <td>0.013514</td>\n",
       "      <td>-0.000959</td>\n",
       "      <td>0.003780</td>\n",
       "      <td>0.003697</td>\n",
       "      <td>184.761905</td>\n",
       "      <td>-0.033266</td>\n",
       "      <td>208.614685</td>\n",
       "      <td>0.001545</td>\n",
       "      <td>-0.020409</td>\n",
       "      <td>0.002735</td>\n",
       "      <td>0.004284</td>\n",
       "      <td>0.000076</td>\n",
       "      <td>-0.016498</td>\n",
       "    </tr>\n",
       "  </tbody>\n",
       "</table>\n",
       "</div>"
      ],
      "text/plain": [
       "        yyyymm  Index       D12       E12        EG     EG_MA        DP  \\\n",
       "241 1891-02-01   4.90  0.018333  0.024858  0.013936 -0.001189  0.003741   \n",
       "242 1891-03-01   4.81  0.018333  0.025208  0.014080 -0.001131  0.003812   \n",
       "243 1891-04-01   4.97  0.018333  0.025558  0.013884 -0.001072  0.003689   \n",
       "244 1891-05-01   4.95  0.018333  0.025900  0.013368 -0.001014  0.003704   \n",
       "245 1891-06-01   4.85  0.018333  0.026250  0.013514 -0.000959  0.003780   \n",
       "\n",
       "       est_DP          PE       PEG       PE_MA   est_PEG  r_actual  \\\n",
       "241  0.003781  197.116996 -0.001518  210.085200  0.001111  0.012320   \n",
       "242  0.003735  190.809917 -0.031997  209.584769  0.001096 -0.018538   \n",
       "243  0.003804  194.457124  0.019114  209.122829  0.001640  0.032723   \n",
       "244  0.003682  191.119691 -0.017163  208.832747  0.001257 -0.004032   \n",
       "245  0.003697  184.761905 -0.033266  208.614685  0.001545 -0.020409   \n",
       "\n",
       "     simple_forecast  mr_forecast  mean20y_forecast  actual_estimate  \n",
       "241         0.002587     0.003701          0.000359         0.016185  \n",
       "242         0.002600     0.003699          0.000355        -0.014626  \n",
       "243         0.002728     0.004373          0.000177         0.037076  \n",
       "244         0.002664     0.003924          0.000197        -0.000335  \n",
       "245         0.002735     0.004284          0.000076        -0.016498  "
      ]
     },
     "execution_count": 15,
     "metadata": {},
     "output_type": "execute_result"
    }
   ],
   "source": [
    "pred_data.head(5)"
   ]
  },
  {
   "cell_type": "code",
   "execution_count": 16,
   "metadata": {},
   "outputs": [
    {
     "data": {
      "image/png": "[encoded data removed]",
      "text/plain": [
       "<Figure size 720x576 with 1 Axes>"
      ]
     },
     "metadata": {
      "needs_background": "light"
     },
     "output_type": "display_data"
    }
   ],
   "source": [
    "plot_cumulative_returns(pred_data[pred_data.yyyymm > \"01-01-2013\"], 'r_actual', 'mr_forecast', 'Actual Returns', 'MR Forecasted Returns')"
   ]
  },
  {
   "cell_type": "code",
   "execution_count": 17,
   "metadata": {},
   "outputs": [
    {
     "data": {
      "image/png": "[encoded data removed]",
      "text/plain": [
       "<Figure size 720x576 with 1 Axes>"
      ]
     },
     "metadata": {
      "needs_background": "light"
     },
     "output_type": "display_data"
    }
   ],
   "source": [
    "plot_cumulative_returns(pred_data[pred_data.yyyymm > \"01-01-2013\"], 'r_actual', 'actual_estimate', 'Actual Returns', 'Actual Decomposition')"
   ]
  },
  {
   "cell_type": "code",
   "execution_count": 18,
   "metadata": {},
   "outputs": [
    {
     "name": "stdout",
     "output_type": "stream",
     "text": [
      "RMSE Simple Forecast: 0.0493\n",
      "RMSE Mean-Reverse Forecast: 0.0497\n",
      "RMSE Historical 20y Mean-Return Forecast: 0.0494\n",
      "RMSE Actual Estimate: 0.0064\n"
     ]
    }
   ],
   "source": [
    "print(f'RMSE Simple Forecast: {round(mean_squared_error(pred_data.r_actual, pred_data.simple_forecast, squared=False),4)}')\n",
    "print(f'RMSE Mean-Reverse Forecast: {round(mean_squared_error(pred_data.r_actual, pred_data.mr_forecast, squared=False),4)}')\n",
    "print(f'RMSE Historical 20y Mean-Return Forecast: {round(mean_squared_error(pred_data.r_actual, pred_data.mean20y_forecast, squared=False),4)}')\n",
    "print(f'RMSE Actual Estimate: {round(mean_squared_error(pred_data.r_actual, pred_data.actual_estimate, squared=False),4)}')"
   ]
  },
  {
   "cell_type": "code",
   "execution_count": 19,
   "metadata": {},
   "outputs": [
    {
     "name": "stdout",
     "output_type": "stream",
     "text": [
      "R-Squared between Actual Returns and Forecasted Returns: -0.016\n",
      "R-Squared between Actual Returns and Actual Estimates: 0.983\n",
      "R-Squared between Actual DP and Estimated DP: 0.9706\n",
      "R-Squared between Actual EG and Estimated EG: -0.0028\n",
      "R-Squared between Actual PEG and Estimated PEG: -0.0099\n"
     ]
    }
   ],
   "source": [
    "print(f\"R-Squared between Actual Returns and Forecasted Returns: {round(r2_score(pred_data.r_actual, pred_data.mr_forecast),4)}\")\n",
    "print(f\"R-Squared between Actual Returns and Actual Estimates: {round(r2_score(pred_data.r_actual, pred_data.actual_estimate),4)}\")\n",
    "print(f\"R-Squared between Actual DP and Estimated DP: {round(r2_score(pred_data.DP, pred_data.est_DP),4)}\")\n",
    "print(f\"R-Squared between Actual EG and Estimated EG: {round(r2_score(pred_data.EG, pred_data.EG_MA),4)}\")\n",
    "print(f\"R-Squared between Actual PEG and Estimated PEG: {round(r2_score(pred_data.PEG, pred_data.est_PEG),4)}\")"
   ]
  },
  {
   "attachments": {},
   "cell_type": "markdown",
   "metadata": {},
   "source": [
    "### **2.** Create a simple trading strategy that overweights the stock market based on your predictor."
   ]
  },
  {
   "attachments": {},
   "cell_type": "markdown",
   "metadata": {},
   "source": [
    "From this point onwards we will only use the actually forecastable returns, meaning the non-NA part of the dataset."
   ]
  },
  {
   "cell_type": "code",
   "execution_count": 20,
   "metadata": {},
   "outputs": [],
   "source": [
    "data_1 = data.copy()\n",
    "data = pred_data.reset_index(drop=True)"
   ]
  },
  {
   "attachments": {},
   "cell_type": "markdown",
   "metadata": {},
   "source": [
    "For the passive strategy we need to get the rf again from the original dataset."
   ]
  },
  {
   "cell_type": "code",
   "execution_count": 21,
   "metadata": {},
   "outputs": [],
   "source": [
    "data['Rfree'] = data_original[data_original.yyyymm >= '1891-02-01'].Rfree.reset_index(drop=True)"
   ]
  },
  {
   "attachments": {},
   "cell_type": "markdown",
   "metadata": {},
   "source": [
    "Functions to compute returns (using Rfree)."
   ]
  },
  {
   "cell_type": "code",
   "execution_count": 22,
   "metadata": {},
   "outputs": [],
   "source": [
    "def annualized_returns(col, df):\n",
    "    return df[col].mean() * 12\n",
    "\n",
    "def annualized_vol(col, df):\n",
    "    return df[col].std() * np.sqrt(12)\n",
    "\n",
    "def sharpe_ratio(col, df):\n",
    "    return annualized_returns(col, df) / annualized_vol(col, df)"
   ]
  },
  {
   "cell_type": "code",
   "execution_count": 23,
   "metadata": {},
   "outputs": [],
   "source": [
    "# Compute passive strategy returns\n",
    "\n",
    "def passive_returns(obs):\n",
    "    asset_r = obs['r_actual']\n",
    "    rf = obs['Rfree']\n",
    "    ret = 0.6*asset_r + 0.4*rf\n",
    "    return ret"
   ]
  },
  {
   "cell_type": "code",
   "execution_count": 24,
   "metadata": {},
   "outputs": [],
   "source": [
    "# Compute active strategy returns\n",
    "\n",
    "def active_returns(obs, wd):    # wd is a weight-deleverage list\n",
    "    bull_weight = wd[0]\n",
    "    deleverage = wd[1]\n",
    "    asset_r = obs['r_actual']\n",
    "    rf = obs['Rfree']\n",
    "    own_forecast = obs['mr_forecast']\n",
    "    bench_forecast = obs['mean20y_forecast']\n",
    "\n",
    "    if own_forecast > bench_forecast:\n",
    "        ret = bull_weight*asset_r + (1-bull_weight)*rf\n",
    "\n",
    "    else:\n",
    "        delev_w = bull_weight + deleverage\n",
    "        ret = delev_w*asset_r + (1-delev_w)*rf\n",
    "    \n",
    "    return ret"
   ]
  },
  {
   "cell_type": "code",
   "execution_count": 25,
   "metadata": {},
   "outputs": [],
   "source": [
    "# Apply strategy return calculations for base case\n",
    "\n",
    "data['passive_strategy'] = data.apply(lambda x: passive_returns(x), axis=1)\n",
    "data['active_strategy'] = data.apply(lambda x: active_returns(x, [1.2, 0.4]), axis=1)"
   ]
  },
  {
   "cell_type": "code",
   "execution_count": 26,
   "metadata": {},
   "outputs": [
    {
     "name": "stdout",
     "output_type": "stream",
     "text": [
      "Passive strategy annualized returns: 4.5 %\n",
      "Active strategy annualized returns: 5.605 % \n",
      "\n",
      "Passive strategy annualized volatility: 10.247 %\n",
      "Active strategy annualized volatility: 22.526 % \n",
      "\n",
      "Passive strategy SR: 0.439\n",
      "Active strategy SR: 0.249\n"
     ]
    }
   ],
   "source": [
    "print(f\"Passive strategy annualized returns: {round(annualized_returns('passive_strategy', data)*100,3)} %\")\n",
    "print(f\"Active strategy annualized returns: {round(annualized_returns('active_strategy', data)*100,3)} % \\n\")\n",
    "\n",
    "print(f\"Passive strategy annualized volatility: {round(annualized_vol('passive_strategy', data)*100,3)} %\")\n",
    "print(f\"Active strategy annualized volatility: {round(annualized_vol('active_strategy', data)*100,3)} % \\n\")\n",
    "\n",
    "print(f\"Passive strategy SR: {round(sharpe_ratio('passive_strategy', data),3)}\")\n",
    "print(f\"Active strategy SR: {round(sharpe_ratio('active_strategy', data),3)}\")"
   ]
  },
  {
   "cell_type": "code",
   "execution_count": 27,
   "metadata": {},
   "outputs": [
    {
     "name": "stdout",
     "output_type": "stream",
     "text": [
      "      fun: -4.407006741882652\n",
      " hess_inv: array([[ 0.00063859, -0.00061757],\n",
      "       [-0.00061757,  0.00231743]])\n",
      "      jac: array([-1.19209290e-07, -1.78813934e-07])\n",
      "  message: 'Optimization terminated successfully.'\n",
      "     nfev: 102\n",
      "      nit: 10\n",
      "     njev: 34\n",
      "   status: 0\n",
      "  success: True\n",
      "        x: array([ 0.00578294, -0.00574433])\n"
     ]
    }
   ],
   "source": [
    "# Function to optimize SR according to weight on risky asset\n",
    "\n",
    "def SR_wcalc(wd):\n",
    "    strategy_returns = data.apply(lambda x: active_returns(x, wd), axis=1)\n",
    "    sr_strategy = (strategy_returns.mean() * 12) / (strategy_returns.std() * np.sqrt(12))\n",
    "    return -(sr_strategy)\n",
    "\n",
    "from scipy.optimize import minimize\n",
    "wd0 = [1.2, -0.4]\n",
    "sol = minimize(SR_wcalc, wd0)\n",
    "print(sol)"
   ]
  },
  {
   "cell_type": "code",
   "execution_count": 28,
   "metadata": {},
   "outputs": [
    {
     "name": "stdout",
     "output_type": "stream",
     "text": [
      "Long-Only Risk-Free annualized returns: 3.353 %\n",
      "Long-Only Index annualized returns: 5.265 % \n",
      "\n",
      "Long-Only Risk-Free annualized volatility: 0.766 %\n",
      "Long-Only Index annualized volatility: 17.083 % \n",
      "\n",
      "Long-Only Risk-Free SR: 4.38\n",
      "Long-Only Index SR: 0.308\n"
     ]
    }
   ],
   "source": [
    "print(f\"Long-Only Risk-Free annualized returns: {round(annualized_returns('Rfree', data)*100,3)} %\")\n",
    "print(f\"Long-Only Index annualized returns: {round(annualized_returns('r_actual', data)*100,3)} % \\n\")\n",
    "\n",
    "print(f\"Long-Only Risk-Free annualized volatility: {round(annualized_vol('Rfree', data)*100,3)} %\")\n",
    "print(f\"Long-Only Index annualized volatility: {round(annualized_vol('r_actual', data)*100,3)} % \\n\")\n",
    "\n",
    "print(f\"Long-Only Risk-Free SR: {round(sharpe_ratio('Rfree', data),3)}\")\n",
    "print(f\"Long-Only Index SR: {round(sharpe_ratio('r_actual', data),3)}\")"
   ]
  },
  {
   "attachments": {},
   "cell_type": "markdown",
   "metadata": {},
   "source": [
    "As it is observable, the risk-free presents an extremelly high SR, making it hard for us to reach conclusions, since it was quite high at the begining of the sample. Therefore, we will apply the optimization process assuming the risk-free to constantly be 0."
   ]
  },
  {
   "cell_type": "code",
   "execution_count": 29,
   "metadata": {},
   "outputs": [],
   "source": [
    "# Compute passive strategy returns\n",
    "\n",
    "def passive_returns(obs):\n",
    "    asset_r = obs['r_actual']\n",
    "    ret = 0.6*asset_r\n",
    "    return ret\n",
    "\n",
    "# Compute active strategy returns\n",
    "\n",
    "def active_returns(obs, wd):    # wd is a weight-deleverage list\n",
    "    bull_weight = wd[0]\n",
    "    deleverage = wd[1]\n",
    "    asset_r = obs['r_actual']\n",
    "    own_forecast = obs['mr_forecast']\n",
    "    bench_forecast = obs['mean20y_forecast']\n",
    "\n",
    "    if own_forecast > bench_forecast:\n",
    "        ret = bull_weight*asset_r\n",
    "\n",
    "    else:\n",
    "        delev_w = bull_weight + deleverage\n",
    "        ret = delev_w*asset_r\n",
    "    \n",
    "    return ret"
   ]
  },
  {
   "cell_type": "code",
   "execution_count": 30,
   "metadata": {},
   "outputs": [
    {
     "name": "stdout",
     "output_type": "stream",
     "text": [
      "      fun: -0.3232529197581883\n",
      " hess_inv: array([[1.81579967, 2.47720087],\n",
      "       [2.47720087, 8.46942148]])\n",
      "      jac: array([-4.16114926e-06, -6.89923763e-06])\n",
      "  message: 'Optimization terminated successfully.'\n",
      "     nfev: 21\n",
      "      nit: 5\n",
      "     njev: 7\n",
      "   status: 0\n",
      "  success: True\n",
      "        x: array([ 1.10941392, -0.66640868])\n"
     ]
    }
   ],
   "source": [
    "# Function to optimize SR according to weight on risky asset\n",
    "\n",
    "def SR_wcalc(wd):\n",
    "    strategy_returns = data.apply(lambda x: active_returns(x, wd), axis=1)\n",
    "    sr_strategy = (strategy_returns.mean() * 12) / (strategy_returns.std() * np.sqrt(12))\n",
    "    return -(sr_strategy)\n",
    "\n",
    "sol = minimize(SR_wcalc, wd0)\n",
    "print(sol)"
   ]
  },
  {
   "cell_type": "code",
   "execution_count": 31,
   "metadata": {},
   "outputs": [
    {
     "data": {
      "text/html": [
       "<div>\n",
       "<style scoped>\n",
       "    .dataframe tbody tr th:only-of-type {\n",
       "        vertical-align: middle;\n",
       "    }\n",
       "\n",
       "    .dataframe tbody tr th {\n",
       "        vertical-align: top;\n",
       "    }\n",
       "\n",
       "    .dataframe thead th {\n",
       "        text-align: right;\n",
       "    }\n",
       "</style>\n",
       "<table border=\"1\" class=\"dataframe\">\n",
       "  <thead>\n",
       "    <tr style=\"text-align: right;\">\n",
       "      <th></th>\n",
       "      <th>yyyymm</th>\n",
       "      <th>Index</th>\n",
       "      <th>D12</th>\n",
       "      <th>E12</th>\n",
       "      <th>EG</th>\n",
       "      <th>EG_MA</th>\n",
       "      <th>DP</th>\n",
       "      <th>est_DP</th>\n",
       "      <th>PE</th>\n",
       "      <th>PEG</th>\n",
       "      <th>PE_MA</th>\n",
       "      <th>est_PEG</th>\n",
       "      <th>r_actual</th>\n",
       "      <th>simple_forecast</th>\n",
       "      <th>mr_forecast</th>\n",
       "      <th>mean20y_forecast</th>\n",
       "      <th>actual_estimate</th>\n",
       "      <th>Rfree</th>\n",
       "      <th>passive_strategy</th>\n",
       "      <th>active_strategy</th>\n",
       "    </tr>\n",
       "  </thead>\n",
       "  <tbody>\n",
       "    <tr>\n",
       "      <th>0</th>\n",
       "      <td>1891-02-01</td>\n",
       "      <td>4.90</td>\n",
       "      <td>0.018333</td>\n",
       "      <td>0.024858</td>\n",
       "      <td>0.013936</td>\n",
       "      <td>-0.001189</td>\n",
       "      <td>0.003741</td>\n",
       "      <td>0.003781</td>\n",
       "      <td>197.116996</td>\n",
       "      <td>-0.001518</td>\n",
       "      <td>210.085200</td>\n",
       "      <td>0.001111</td>\n",
       "      <td>0.012320</td>\n",
       "      <td>0.002587</td>\n",
       "      <td>0.003701</td>\n",
       "      <td>0.000359</td>\n",
       "      <td>0.016185</td>\n",
       "      <td>0.003942</td>\n",
       "      <td>0.007392</td>\n",
       "      <td>0.013669</td>\n",
       "    </tr>\n",
       "    <tr>\n",
       "      <th>1</th>\n",
       "      <td>1891-03-01</td>\n",
       "      <td>4.81</td>\n",
       "      <td>0.018333</td>\n",
       "      <td>0.025208</td>\n",
       "      <td>0.014080</td>\n",
       "      <td>-0.001131</td>\n",
       "      <td>0.003812</td>\n",
       "      <td>0.003735</td>\n",
       "      <td>190.809917</td>\n",
       "      <td>-0.031997</td>\n",
       "      <td>209.584769</td>\n",
       "      <td>0.001096</td>\n",
       "      <td>-0.018538</td>\n",
       "      <td>0.002600</td>\n",
       "      <td>0.003699</td>\n",
       "      <td>0.000355</td>\n",
       "      <td>-0.014626</td>\n",
       "      <td>0.003329</td>\n",
       "      <td>-0.011123</td>\n",
       "      <td>-0.020566</td>\n",
       "    </tr>\n",
       "    <tr>\n",
       "      <th>2</th>\n",
       "      <td>1891-04-01</td>\n",
       "      <td>4.97</td>\n",
       "      <td>0.018333</td>\n",
       "      <td>0.025558</td>\n",
       "      <td>0.013884</td>\n",
       "      <td>-0.001072</td>\n",
       "      <td>0.003689</td>\n",
       "      <td>0.003804</td>\n",
       "      <td>194.457124</td>\n",
       "      <td>0.019114</td>\n",
       "      <td>209.122829</td>\n",
       "      <td>0.001640</td>\n",
       "      <td>0.032723</td>\n",
       "      <td>0.002728</td>\n",
       "      <td>0.004373</td>\n",
       "      <td>0.000177</td>\n",
       "      <td>0.037076</td>\n",
       "      <td>0.003514</td>\n",
       "      <td>0.019634</td>\n",
       "      <td>0.036303</td>\n",
       "    </tr>\n",
       "    <tr>\n",
       "      <th>3</th>\n",
       "      <td>1891-05-01</td>\n",
       "      <td>4.95</td>\n",
       "      <td>0.018333</td>\n",
       "      <td>0.025900</td>\n",
       "      <td>0.013368</td>\n",
       "      <td>-0.001014</td>\n",
       "      <td>0.003704</td>\n",
       "      <td>0.003682</td>\n",
       "      <td>191.119691</td>\n",
       "      <td>-0.017163</td>\n",
       "      <td>208.832747</td>\n",
       "      <td>0.001257</td>\n",
       "      <td>-0.004032</td>\n",
       "      <td>0.002664</td>\n",
       "      <td>0.003924</td>\n",
       "      <td>0.000197</td>\n",
       "      <td>-0.000335</td>\n",
       "      <td>0.003388</td>\n",
       "      <td>-0.002419</td>\n",
       "      <td>-0.004473</td>\n",
       "    </tr>\n",
       "    <tr>\n",
       "      <th>4</th>\n",
       "      <td>1891-06-01</td>\n",
       "      <td>4.85</td>\n",
       "      <td>0.018333</td>\n",
       "      <td>0.026250</td>\n",
       "      <td>0.013514</td>\n",
       "      <td>-0.000959</td>\n",
       "      <td>0.003780</td>\n",
       "      <td>0.003697</td>\n",
       "      <td>184.761905</td>\n",
       "      <td>-0.033266</td>\n",
       "      <td>208.614685</td>\n",
       "      <td>0.001545</td>\n",
       "      <td>-0.020409</td>\n",
       "      <td>0.002735</td>\n",
       "      <td>0.004284</td>\n",
       "      <td>0.000076</td>\n",
       "      <td>-0.016498</td>\n",
       "      <td>0.003610</td>\n",
       "      <td>-0.012245</td>\n",
       "      <td>-0.022642</td>\n",
       "    </tr>\n",
       "  </tbody>\n",
       "</table>\n",
       "</div>"
      ],
      "text/plain": [
       "      yyyymm  Index       D12       E12        EG     EG_MA        DP  \\\n",
       "0 1891-02-01   4.90  0.018333  0.024858  0.013936 -0.001189  0.003741   \n",
       "1 1891-03-01   4.81  0.018333  0.025208  0.014080 -0.001131  0.003812   \n",
       "2 1891-04-01   4.97  0.018333  0.025558  0.013884 -0.001072  0.003689   \n",
       "3 1891-05-01   4.95  0.018333  0.025900  0.013368 -0.001014  0.003704   \n",
       "4 1891-06-01   4.85  0.018333  0.026250  0.013514 -0.000959  0.003780   \n",
       "\n",
       "     est_DP          PE       PEG       PE_MA   est_PEG  r_actual  \\\n",
       "0  0.003781  197.116996 -0.001518  210.085200  0.001111  0.012320   \n",
       "1  0.003735  190.809917 -0.031997  209.584769  0.001096 -0.018538   \n",
       "2  0.003804  194.457124  0.019114  209.122829  0.001640  0.032723   \n",
       "3  0.003682  191.119691 -0.017163  208.832747  0.001257 -0.004032   \n",
       "4  0.003697  184.761905 -0.033266  208.614685  0.001545 -0.020409   \n",
       "\n",
       "   simple_forecast  mr_forecast  mean20y_forecast  actual_estimate     Rfree  \\\n",
       "0         0.002587     0.003701          0.000359         0.016185  0.003942   \n",
       "1         0.002600     0.003699          0.000355        -0.014626  0.003329   \n",
       "2         0.002728     0.004373          0.000177         0.037076  0.003514   \n",
       "3         0.002664     0.003924          0.000197        -0.000335  0.003388   \n",
       "4         0.002735     0.004284          0.000076        -0.016498  0.003610   \n",
       "\n",
       "   passive_strategy  active_strategy  \n",
       "0          0.007392         0.013669  \n",
       "1         -0.011123        -0.020566  \n",
       "2          0.019634         0.036303  \n",
       "3         -0.002419        -0.004473  \n",
       "4         -0.012245        -0.022642  "
      ]
     },
     "execution_count": 31,
     "metadata": {},
     "output_type": "execute_result"
    }
   ],
   "source": [
    "# Apply new optimal weight to active strategy\n",
    "\n",
    "optimal_w = sol.x\n",
    "data['passive_strategy'] = data.apply(lambda x: passive_returns(x), axis=1)\n",
    "data['active_strategy'] = data.apply(lambda x: active_returns(x, optimal_w), axis=1)\n",
    "data.head()"
   ]
  },
  {
   "cell_type": "code",
   "execution_count": 32,
   "metadata": {},
   "outputs": [
    {
     "name": "stdout",
     "output_type": "stream",
     "text": [
      "Passive strategy annualized returns: 3.159 %\n",
      "Active strategy annualized returns: 5.4 % \n",
      "\n",
      "Passive strategy annualized volatility: 10.25 %\n",
      "Active strategy annualized volatility: 16.704 % \n",
      "\n",
      "Passive strategy SR: 0.308\n",
      "Active strategy SR: 0.323\n"
     ]
    }
   ],
   "source": [
    "print(f\"Passive strategy annualized returns: {round(annualized_returns('passive_strategy', data)*100,3)} %\")\n",
    "print(f\"Active strategy annualized returns: {round(annualized_returns('active_strategy', data)*100,3)} % \\n\")\n",
    "\n",
    "print(f\"Passive strategy annualized volatility: {round(annualized_vol('passive_strategy', data)*100,3)} %\")\n",
    "print(f\"Active strategy annualized volatility: {round(annualized_vol('active_strategy', data)*100,3)} % \\n\")\n",
    "\n",
    "print(f\"Passive strategy SR: {round(sharpe_ratio('passive_strategy', data),3)}\")\n",
    "print(f\"Active strategy SR: {round(sharpe_ratio('active_strategy', data),3)}\")"
   ]
  },
  {
   "cell_type": "code",
   "execution_count": 33,
   "metadata": {},
   "outputs": [
    {
     "data": {
      "image/png": "[encoded data removed]",
      "text/plain": [
       "<Figure size 720x576 with 1 Axes>"
      ]
     },
     "metadata": {
      "needs_background": "light"
     },
     "output_type": "display_data"
    }
   ],
   "source": [
    "plot_cumulative_returns(data[data.yyyymm > \"01-01-2013\"], 'passive_strategy', 'active_strategy', 'Passive Strategy', 'Active Strategy')"
   ]
  },
  {
   "attachments": {},
   "cell_type": "markdown",
   "metadata": {},
   "source": [
    "#### **(b)** What is the alpha and beta of the strategy? Is the alpha economically and statistically large?"
   ]
  },
  {
   "cell_type": "code",
   "execution_count": 34,
   "metadata": {},
   "outputs": [
    {
     "name": "stdout",
     "output_type": "stream",
     "text": [
      "                            OLS Regression Results                            \n",
      "==============================================================================\n",
      "Dep. Variable:        active_strategy   R-squared:                       0.909\n",
      "Model:                            OLS   Adj. R-squared:                  0.909\n",
      "Method:                 Least Squares   F-statistic:                 1.566e+04\n",
      "Date:                Sat, 06 May 2023   Prob (F-statistic):               0.00\n",
      "Time:                        17:56:42   Log-Likelihood:                 4416.7\n",
      "No. Observations:                1571   AIC:                            -8829.\n",
      "Df Residuals:                    1569   BIC:                            -8819.\n",
      "Df Model:                           1                                         \n",
      "Covariance Type:            nonrobust                                         \n",
      "==============================================================================\n",
      "                 coef    std err          t      P>|t|      [0.025      0.975]\n",
      "------------------------------------------------------------------------------\n",
      "const          0.0004      0.000      1.111      0.267      -0.000       0.001\n",
      "r_actual       0.9322      0.007    125.137      0.000       0.918       0.947\n",
      "==============================================================================\n",
      "Omnibus:                      462.316   Durbin-Watson:                   1.938\n",
      "Prob(Omnibus):                  0.000   Jarque-Bera (JB):             6862.770\n",
      "Skew:                           0.957   Prob(JB):                         0.00\n",
      "Kurtosis:                      13.059   Cond. No.                         20.3\n",
      "==============================================================================\n",
      "\n",
      "Notes:\n",
      "[1] Standard Errors assume that the covariance matrix of the errors is correctly specified.\n"
     ]
    }
   ],
   "source": [
    "import statsmodels.api as sm\n",
    "\n",
    "endog = data['active_strategy']\n",
    "exog = sm.add_constant(data['r_actual'])\n",
    "\n",
    "reg = sm.OLS(endog, exog).fit()\n",
    "print(reg.summary())"
   ]
  },
  {
   "cell_type": "code",
   "execution_count": 35,
   "metadata": {},
   "outputs": [
    {
     "name": "stdout",
     "output_type": "stream",
     "text": [
      "Alpha: 0.0004\n",
      "Beta: 0.9322\n"
     ]
    }
   ],
   "source": [
    "print(f\"Alpha: {round(reg.params['const'],4)}\")\n",
    "print(f\"Beta: {round(reg.params['r_actual'],4)}\")"
   ]
  },
  {
   "attachments": {},
   "cell_type": "markdown",
   "metadata": {},
   "source": [
    "### **3.** Come up with a new predictor of the equity premium."
   ]
  },
  {
   "attachments": {},
   "cell_type": "markdown",
   "metadata": {},
   "source": [
    "We decided to explore the relationship between Bond corporate spreads and Equity returns. For that we will use the following variables: corpr (plain corporate spread); corpr_lag (corporate spread lagged by one month) and gcl (arithmetic return of corpr_lag)."
   ]
  },
  {
   "cell_type": "code",
   "execution_count": 36,
   "metadata": {},
   "outputs": [],
   "source": [
    "data3 = data_original.drop('csp', axis=1)\n",
    "data3['corpr_lag'] = data3['corpr'].shift(1)\n",
    "data3['gcl'] = data3.corpr_lag.pct_change()\n",
    "data3['r_actual'] = np.log(data3.Index) - np.log(data3.Index.shift(1))\n",
    "data3 = data3.dropna()"
   ]
  },
  {
   "cell_type": "code",
   "execution_count": 37,
   "metadata": {},
   "outputs": [
    {
     "data": {
      "text/html": [
       "<div>\n",
       "<style scoped>\n",
       "    .dataframe tbody tr th:only-of-type {\n",
       "        vertical-align: middle;\n",
       "    }\n",
       "\n",
       "    .dataframe tbody tr th {\n",
       "        vertical-align: top;\n",
       "    }\n",
       "\n",
       "    .dataframe thead th {\n",
       "        text-align: right;\n",
       "    }\n",
       "</style>\n",
       "<table border=\"1\" class=\"dataframe\">\n",
       "  <thead>\n",
       "    <tr style=\"text-align: right;\">\n",
       "      <th></th>\n",
       "      <th>yyyymm</th>\n",
       "      <th>Index</th>\n",
       "      <th>Rfree</th>\n",
       "      <th>corpr</th>\n",
       "      <th>corpr_lag</th>\n",
       "      <th>gcl</th>\n",
       "      <th>r_actual</th>\n",
       "    </tr>\n",
       "  </thead>\n",
       "  <tbody>\n",
       "    <tr>\n",
       "      <th>0</th>\n",
       "      <td>1926-12-01</td>\n",
       "      <td>13.49</td>\n",
       "      <td>0.0028</td>\n",
       "      <td>0.0056</td>\n",
       "      <td>0.0057</td>\n",
       "      <td>-0.412371</td>\n",
       "      <td>0.016443</td>\n",
       "    </tr>\n",
       "    <tr>\n",
       "      <th>1</th>\n",
       "      <td>1927-01-01</td>\n",
       "      <td>13.21</td>\n",
       "      <td>0.0025</td>\n",
       "      <td>0.0056</td>\n",
       "      <td>0.0056</td>\n",
       "      <td>-0.017544</td>\n",
       "      <td>-0.020975</td>\n",
       "    </tr>\n",
       "    <tr>\n",
       "      <th>2</th>\n",
       "      <td>1927-02-01</td>\n",
       "      <td>13.84</td>\n",
       "      <td>0.0026</td>\n",
       "      <td>0.0069</td>\n",
       "      <td>0.0056</td>\n",
       "      <td>0.000000</td>\n",
       "      <td>0.046589</td>\n",
       "    </tr>\n",
       "    <tr>\n",
       "      <th>3</th>\n",
       "      <td>1927-03-01</td>\n",
       "      <td>13.93</td>\n",
       "      <td>0.0030</td>\n",
       "      <td>0.0083</td>\n",
       "      <td>0.0069</td>\n",
       "      <td>0.232143</td>\n",
       "      <td>0.006482</td>\n",
       "    </tr>\n",
       "    <tr>\n",
       "      <th>4</th>\n",
       "      <td>1927-04-01</td>\n",
       "      <td>14.17</td>\n",
       "      <td>0.0025</td>\n",
       "      <td>0.0055</td>\n",
       "      <td>0.0083</td>\n",
       "      <td>0.202899</td>\n",
       "      <td>0.017082</td>\n",
       "    </tr>\n",
       "  </tbody>\n",
       "</table>\n",
       "</div>"
      ],
      "text/plain": [
       "      yyyymm  Index   Rfree   corpr  corpr_lag       gcl  r_actual\n",
       "0 1926-12-01  13.49  0.0028  0.0056     0.0057 -0.412371  0.016443\n",
       "1 1927-01-01  13.21  0.0025  0.0056     0.0056 -0.017544 -0.020975\n",
       "2 1927-02-01  13.84  0.0026  0.0069     0.0056  0.000000  0.046589\n",
       "3 1927-03-01  13.93  0.0030  0.0083     0.0069  0.232143  0.006482\n",
       "4 1927-04-01  14.17  0.0025  0.0055     0.0083  0.202899  0.017082"
      ]
     },
     "execution_count": 37,
     "metadata": {},
     "output_type": "execute_result"
    }
   ],
   "source": [
    "data = data3.iloc[:,[0,1,10,13,17,18,19]].reset_index(drop=True)\n",
    "data.head(5)"
   ]
  },
  {
   "attachments": {},
   "cell_type": "markdown",
   "metadata": {},
   "source": [
    "Explore relationship between the three referred features and returns as linear."
   ]
  },
  {
   "cell_type": "code",
   "execution_count": 38,
   "metadata": {},
   "outputs": [
    {
     "name": "stdout",
     "output_type": "stream",
     "text": [
      "                            OLS Regression Results                            \n",
      "==============================================================================\n",
      "Dep. Variable:                  Index   R-squared:                       0.001\n",
      "Model:                            OLS   Adj. R-squared:                 -0.000\n",
      "Method:                 Least Squares   F-statistic:                    0.5904\n",
      "Date:                Sat, 06 May 2023   Prob (F-statistic):              0.442\n",
      "Time:                        17:56:42   Log-Likelihood:                -9285.3\n",
      "No. Observations:                1141   AIC:                         1.857e+04\n",
      "Df Residuals:                    1139   BIC:                         1.858e+04\n",
      "Df Model:                           1                                         \n",
      "Covariance Type:            nonrobust                                         \n",
      "==============================================================================\n",
      "                 coef    std err          t      P>|t|      [0.025      0.975]\n",
      "------------------------------------------------------------------------------\n",
      "const        521.9046     25.199     20.711      0.000     472.463     571.346\n",
      "corpr        858.1283   1116.805      0.768      0.442   -1333.099    3049.355\n",
      "==============================================================================\n",
      "Omnibus:                      513.651   Durbin-Watson:                   0.003\n",
      "Prob(Omnibus):                  0.000   Jarque-Bera (JB):             2139.134\n",
      "Skew:                           2.184   Prob(JB):                         0.00\n",
      "Kurtosis:                       8.091   Cond. No.                         45.5\n",
      "==============================================================================\n",
      "\n",
      "Notes:\n",
      "[1] Standard Errors assume that the covariance matrix of the errors is correctly specified.\n"
     ]
    }
   ],
   "source": [
    "endog = data['Index']\n",
    "exog = sm.add_constant(data['corpr'])\n",
    "\n",
    "reg = sm.OLS(endog, exog).fit()\n",
    "print(reg.summary())"
   ]
  },
  {
   "cell_type": "code",
   "execution_count": 39,
   "metadata": {},
   "outputs": [
    {
     "name": "stdout",
     "output_type": "stream",
     "text": [
      "                            OLS Regression Results                            \n",
      "==============================================================================\n",
      "Dep. Variable:                  Index   R-squared:                       0.001\n",
      "Model:                            OLS   Adj. R-squared:                 -0.000\n",
      "Method:                 Least Squares   F-statistic:                    0.9526\n",
      "Date:                Sat, 06 May 2023   Prob (F-statistic):              0.329\n",
      "Time:                        17:56:42   Log-Likelihood:                -9285.1\n",
      "No. Observations:                1141   AIC:                         1.857e+04\n",
      "Df Residuals:                    1139   BIC:                         1.858e+04\n",
      "Df Model:                           1                                         \n",
      "Covariance Type:            nonrobust                                         \n",
      "==============================================================================\n",
      "                 coef    std err          t      P>|t|      [0.025      0.975]\n",
      "------------------------------------------------------------------------------\n",
      "const        520.6895     25.200     20.663      0.000     471.247     570.132\n",
      "corpr_lag   1090.1683   1116.959      0.976      0.329   -1101.360    3281.696\n",
      "==============================================================================\n",
      "Omnibus:                      513.546   Durbin-Watson:                   0.004\n",
      "Prob(Omnibus):                  0.000   Jarque-Bera (JB):             2137.747\n",
      "Skew:                           2.183   Prob(JB):                         0.00\n",
      "Kurtosis:                       8.089   Cond. No.                         45.5\n",
      "==============================================================================\n",
      "\n",
      "Notes:\n",
      "[1] Standard Errors assume that the covariance matrix of the errors is correctly specified.\n"
     ]
    }
   ],
   "source": [
    "exog = sm.add_constant(data['corpr_lag'])\n",
    "\n",
    "reg = sm.OLS(endog, exog).fit()\n",
    "print(reg.summary())"
   ]
  },
  {
   "cell_type": "code",
   "execution_count": 40,
   "metadata": {},
   "outputs": [
    {
     "name": "stdout",
     "output_type": "stream",
     "text": [
      "                            OLS Regression Results                            \n",
      "==============================================================================\n",
      "Dep. Variable:                  Index   R-squared:                       0.000\n",
      "Model:                            OLS   Adj. R-squared:                 -0.001\n",
      "Method:                 Least Squares   F-statistic:                  0.003297\n",
      "Date:                Sat, 06 May 2023   Prob (F-statistic):              0.954\n",
      "Time:                        17:56:42   Log-Likelihood:                -9285.6\n",
      "No. Observations:                1141   AIC:                         1.858e+04\n",
      "Df Residuals:                    1139   BIC:                         1.859e+04\n",
      "Df Model:                           1                                         \n",
      "Covariance Type:            nonrobust                                         \n",
      "==============================================================================\n",
      "                 coef    std err          t      P>|t|      [0.025      0.975]\n",
      "------------------------------------------------------------------------------\n",
      "const        526.3298     24.538     21.450      0.000     478.186     574.474\n",
      "gcl           -0.0793      1.382     -0.057      0.954      -2.791       2.632\n",
      "==============================================================================\n",
      "Omnibus:                      512.781   Durbin-Watson:                   0.003\n",
      "Prob(Omnibus):                  0.000   Jarque-Bera (JB):             2129.403\n",
      "Skew:                           2.181   Prob(JB):                         0.00\n",
      "Kurtosis:                       8.076   Cond. No.                         17.8\n",
      "==============================================================================\n",
      "\n",
      "Notes:\n",
      "[1] Standard Errors assume that the covariance matrix of the errors is correctly specified.\n"
     ]
    }
   ],
   "source": [
    "exog = sm.add_constant(data.gcl.replace(np.inf, 0).replace(-np.inf, 0))\n",
    "\n",
    "reg = sm.OLS(endog, exog).fit()\n",
    "print(reg.summary())"
   ]
  },
  {
   "attachments": {},
   "cell_type": "markdown",
   "metadata": {},
   "source": [
    "Create Stratgy functions."
   ]
  },
  {
   "cell_type": "code",
   "execution_count": 41,
   "metadata": {},
   "outputs": [],
   "source": [
    "# Compute corporate spread strategy returns\n",
    "\n",
    "def corpr_returns(obs, col, wt_list):  # wt_list is a list containing the weight - deleverage - threshold combination\n",
    "    bull_weight = wt_list[0]\n",
    "    deleverage = wt_list[1]\n",
    "    threshold = wt_list[2]\n",
    "    asset_r = obs['r_actual']\n",
    "    corp_sp = obs[col]\n",
    "    if corp_sp < threshold:\n",
    "        ret = bull_weight*asset_r\n",
    "    else:\n",
    "        delev_w = bull_weight + deleverage\n",
    "        ret = delev_w*asset_r\n",
    "    return ret"
   ]
  },
  {
   "cell_type": "code",
   "execution_count": 42,
   "metadata": {},
   "outputs": [],
   "source": [
    "non_lag = 'corpr'\n",
    "lag = 'corpr_lag'\n",
    "gcl = 'gcl'"
   ]
  },
  {
   "attachments": {},
   "cell_type": "markdown",
   "metadata": {},
   "source": [
    "Optimize Sharpe Ratio for each strategy."
   ]
  },
  {
   "cell_type": "code",
   "execution_count": 43,
   "metadata": {},
   "outputs": [],
   "source": [
    "# Define the constraint function\n",
    "def constraint_func(wt_list):\n",
    "    return wt_list[0] - wt_list[1]  # Ensure that bull_weight - deleverage >= 0\n",
    "\n",
    "# Define the constraint object\n",
    "constraint = {'type': 'ineq', 'fun': constraint_func}"
   ]
  },
  {
   "cell_type": "code",
   "execution_count": 44,
   "metadata": {},
   "outputs": [
    {
     "name": "stdout",
     "output_type": "stream",
     "text": [
      "     fun: -0.42711984986945895\n",
      "     jac: array([ 0.03453537, -0.03453537,  0.        ])\n",
      " message: 'Optimization terminated successfully'\n",
      "    nfev: 20\n",
      "     nit: 5\n",
      "    njev: 5\n",
      "  status: 0\n",
      " success: True\n",
      "       x: array([1.36881976, 1.36881976, 0.00515986])\n"
     ]
    }
   ],
   "source": [
    "# Function to optimize SR according to weight on risky asset\n",
    "\n",
    "def SR_wcalc(wt_list):\n",
    "    strategy_returns = data.apply(lambda x: corpr_returns(x, non_lag, wt_list), axis=1)\n",
    "    sr_strategy = (strategy_returns.mean() * 12) / (strategy_returns.std() * np.sqrt(12))\n",
    "    return -(sr_strategy)\n",
    "\n",
    "wt0 = [1.2, -0.4, data.corpr.mean()]\n",
    "sol1 = minimize(SR_wcalc, wt0, constraints=constraint)\n",
    "print(sol1)"
   ]
  },
  {
   "cell_type": "code",
   "execution_count": 45,
   "metadata": {},
   "outputs": [
    {
     "name": "stdout",
     "output_type": "stream",
     "text": [
      "     fun: -0.35712465574374\n",
      "     jac: array([ 0.00249855, -0.00249858,  0.        ])\n",
      " message: 'Optimization terminated successfully'\n",
      "    nfev: 28\n",
      "     nit: 7\n",
      "    njev: 7\n",
      "  status: 0\n",
      " success: True\n",
      "       x: array([1.54703483, 1.54703483, 0.00515986])\n"
     ]
    }
   ],
   "source": [
    "def SR_wcalc(wt_list):\n",
    "    strategy_returns = data.apply(lambda x: corpr_returns(x, lag, wt_list), axis=1)\n",
    "    sr_strategy = (strategy_returns.mean() * 12) / (strategy_returns.std() * np.sqrt(12))\n",
    "    return -(sr_strategy)\n",
    "\n",
    "sol2 = minimize(SR_wcalc, wt0, constraints=constraint)\n",
    "print(sol2)"
   ]
  },
  {
   "cell_type": "code",
   "execution_count": 46,
   "metadata": {},
   "outputs": [],
   "source": [
    "mean_gcl = data.gcl.replace(np.inf,0).replace(-(np.inf),0).mean()"
   ]
  },
  {
   "cell_type": "code",
   "execution_count": 47,
   "metadata": {},
   "outputs": [
    {
     "name": "stdout",
     "output_type": "stream",
     "text": [
      "     fun: -0.3328126766785203\n",
      "     jac: array([ 2.09994614e-05, -8.67396593e-05,  0.00000000e+00])\n",
      " message: 'Optimization terminated successfully'\n",
      "    nfev: 28\n",
      "     nit: 7\n",
      "    njev: 7\n",
      "  status: 0\n",
      " success: True\n",
      "       x: array([ 1.39946796,  0.33855991, -0.03303005])\n"
     ]
    }
   ],
   "source": [
    "def SR_wcalc(wt_list):\n",
    "    strategy_returns = data.apply(lambda x: corpr_returns(x, gcl, wt_list), axis=1)\n",
    "    sr_strategy = (strategy_returns.mean() * 12) / (strategy_returns.std() * np.sqrt(12))\n",
    "    return -(sr_strategy)\n",
    "\n",
    "wt0 = [1.2, -0.4, mean_gcl]\n",
    "sol3 = minimize(SR_wcalc, wt0, constraints=constraint)\n",
    "print(sol3)"
   ]
  },
  {
   "attachments": {},
   "cell_type": "markdown",
   "metadata": {},
   "source": [
    "Calculate returns for each strategy."
   ]
  },
  {
   "cell_type": "code",
   "execution_count": 48,
   "metadata": {},
   "outputs": [
    {
     "data": {
      "text/html": [
       "<div>\n",
       "<style scoped>\n",
       "    .dataframe tbody tr th:only-of-type {\n",
       "        vertical-align: middle;\n",
       "    }\n",
       "\n",
       "    .dataframe tbody tr th {\n",
       "        vertical-align: top;\n",
       "    }\n",
       "\n",
       "    .dataframe thead th {\n",
       "        text-align: right;\n",
       "    }\n",
       "</style>\n",
       "<table border=\"1\" class=\"dataframe\">\n",
       "  <thead>\n",
       "    <tr style=\"text-align: right;\">\n",
       "      <th></th>\n",
       "      <th>yyyymm</th>\n",
       "      <th>Index</th>\n",
       "      <th>Rfree</th>\n",
       "      <th>corpr</th>\n",
       "      <th>corpr_lag</th>\n",
       "      <th>gcl</th>\n",
       "      <th>r_actual</th>\n",
       "      <th>passive_strategy</th>\n",
       "      <th>cs_strategy</th>\n",
       "      <th>cs_strategy_lag</th>\n",
       "      <th>gcs_strategy</th>\n",
       "    </tr>\n",
       "  </thead>\n",
       "  <tbody>\n",
       "    <tr>\n",
       "      <th>0</th>\n",
       "      <td>1926-12-01</td>\n",
       "      <td>13.49</td>\n",
       "      <td>0.0028</td>\n",
       "      <td>0.0056</td>\n",
       "      <td>0.0057</td>\n",
       "      <td>-0.412371</td>\n",
       "      <td>0.016443</td>\n",
       "      <td>0.009866</td>\n",
       "      <td>0.045015</td>\n",
       "      <td>0.050875</td>\n",
       "      <td>0.023011</td>\n",
       "    </tr>\n",
       "    <tr>\n",
       "      <th>1</th>\n",
       "      <td>1927-01-01</td>\n",
       "      <td>13.21</td>\n",
       "      <td>0.0025</td>\n",
       "      <td>0.0056</td>\n",
       "      <td>0.0056</td>\n",
       "      <td>-0.017544</td>\n",
       "      <td>-0.020975</td>\n",
       "      <td>-0.012585</td>\n",
       "      <td>-0.057421</td>\n",
       "      <td>-0.064897</td>\n",
       "      <td>-0.036454</td>\n",
       "    </tr>\n",
       "    <tr>\n",
       "      <th>2</th>\n",
       "      <td>1927-02-01</td>\n",
       "      <td>13.84</td>\n",
       "      <td>0.0026</td>\n",
       "      <td>0.0069</td>\n",
       "      <td>0.0056</td>\n",
       "      <td>0.000000</td>\n",
       "      <td>0.046589</td>\n",
       "      <td>0.027953</td>\n",
       "      <td>0.127543</td>\n",
       "      <td>0.144149</td>\n",
       "      <td>0.080973</td>\n",
       "    </tr>\n",
       "    <tr>\n",
       "      <th>3</th>\n",
       "      <td>1927-03-01</td>\n",
       "      <td>13.93</td>\n",
       "      <td>0.0030</td>\n",
       "      <td>0.0083</td>\n",
       "      <td>0.0069</td>\n",
       "      <td>0.232143</td>\n",
       "      <td>0.006482</td>\n",
       "      <td>0.003889</td>\n",
       "      <td>0.017745</td>\n",
       "      <td>0.020055</td>\n",
       "      <td>0.011266</td>\n",
       "    </tr>\n",
       "    <tr>\n",
       "      <th>4</th>\n",
       "      <td>1927-04-01</td>\n",
       "      <td>14.17</td>\n",
       "      <td>0.0025</td>\n",
       "      <td>0.0055</td>\n",
       "      <td>0.0083</td>\n",
       "      <td>0.202899</td>\n",
       "      <td>0.017082</td>\n",
       "      <td>0.010249</td>\n",
       "      <td>0.046765</td>\n",
       "      <td>0.052854</td>\n",
       "      <td>0.029689</td>\n",
       "    </tr>\n",
       "  </tbody>\n",
       "</table>\n",
       "</div>"
      ],
      "text/plain": [
       "      yyyymm  Index   Rfree   corpr  corpr_lag       gcl  r_actual  \\\n",
       "0 1926-12-01  13.49  0.0028  0.0056     0.0057 -0.412371  0.016443   \n",
       "1 1927-01-01  13.21  0.0025  0.0056     0.0056 -0.017544 -0.020975   \n",
       "2 1927-02-01  13.84  0.0026  0.0069     0.0056  0.000000  0.046589   \n",
       "3 1927-03-01  13.93  0.0030  0.0083     0.0069  0.232143  0.006482   \n",
       "4 1927-04-01  14.17  0.0025  0.0055     0.0083  0.202899  0.017082   \n",
       "\n",
       "   passive_strategy  cs_strategy  cs_strategy_lag  gcs_strategy  \n",
       "0          0.009866     0.045015         0.050875      0.023011  \n",
       "1         -0.012585    -0.057421        -0.064897     -0.036454  \n",
       "2          0.027953     0.127543         0.144149      0.080973  \n",
       "3          0.003889     0.017745         0.020055      0.011266  \n",
       "4          0.010249     0.046765         0.052854      0.029689  "
      ]
     },
     "execution_count": 48,
     "metadata": {},
     "output_type": "execute_result"
    }
   ],
   "source": [
    "optimal_wt1 = sol1.x\n",
    "optimal_wt2 = sol2.x\n",
    "optimal_wt3 = sol3.x\n",
    "\n",
    "data['passive_strategy'] = data.apply(lambda x: passive_returns(x), axis=1)\n",
    "data['cs_strategy'] = data.apply(lambda x: corpr_returns(x, non_lag, optimal_wt1), axis=1)\n",
    "data['cs_strategy_lag'] = data.apply(lambda x: corpr_returns(x, lag, optimal_wt2), axis=1)\n",
    "data['gcs_strategy'] = data.apply(lambda x: corpr_returns(x, gcl, optimal_wt3), axis=1)\n",
    "\n",
    "data.head()"
   ]
  },
  {
   "cell_type": "code",
   "execution_count": 49,
   "metadata": {},
   "outputs": [],
   "source": [
    "def annualized_returns(col, df=data):\n",
    "    return df[col].mean() * 12\n",
    "\n",
    "def annualized_vol(col, df=data):\n",
    "    return df[col].std() * np.sqrt(12)\n",
    "\n",
    "def sharpe_ratio(col, df=data):\n",
    "    return annualized_returns(col) / annualized_vol(col)"
   ]
  },
  {
   "cell_type": "code",
   "execution_count": 50,
   "metadata": {},
   "outputs": [
    {
     "name": "stdout",
     "output_type": "stream",
     "text": [
      "Passive strategy annualized returns: 3.713 %\n",
      "CS strategy annualized returns: 16.965 %\n",
      "CS Lag strategy annualized returns: 15.111 %\n",
      "CS Growth strategy annualized returns: 9.341 % \n",
      "\n",
      "Passive strategy annualized volatility: 11.215 %\n",
      "CS strategy annualized volatility: 39.72 %\n",
      "CS Lag strategy annualized volatility: 42.314 %\n",
      "CS Growth strategy annualized volatility: 28.068 % \n",
      "\n",
      "Passive strategy SR: 0.331\n",
      "CS strategy SR: 0.427\n",
      "CS Lag strategy SR: 0.357\n",
      "CS Growth strategy SR: 0.333\n"
     ]
    }
   ],
   "source": [
    "print(f\"Passive strategy annualized returns: {round(annualized_returns('passive_strategy', data)*100,3)} %\")\n",
    "print(f\"CS strategy annualized returns: {round(annualized_returns('cs_strategy', data)*100,3)} %\")\n",
    "print(f\"CS Lag strategy annualized returns: {round(annualized_returns('cs_strategy_lag', data)*100,3)} %\")\n",
    "print(f\"CS Growth strategy annualized returns: {round(annualized_returns('gcs_strategy', data)*100,3)} % \\n\")\n",
    "\n",
    "print(f\"Passive strategy annualized volatility: {round(annualized_vol('passive_strategy', data)*100,3)} %\")\n",
    "print(f\"CS strategy annualized volatility: {round(annualized_vol('cs_strategy', data)*100,3)} %\")\n",
    "print(f\"CS Lag strategy annualized volatility: {round(annualized_vol('cs_strategy_lag', data)*100,3)} %\")\n",
    "print(f\"CS Growth strategy annualized volatility: {round(annualized_vol('gcs_strategy', data)*100,3)} % \\n\")\n",
    "\n",
    "print(f\"Passive strategy SR: {round(sharpe_ratio('passive_strategy', data),3)}\")\n",
    "print(f\"CS strategy SR: {round(sharpe_ratio('cs_strategy', data),3)}\")\n",
    "print(f\"CS Lag strategy SR: {round(sharpe_ratio('cs_strategy_lag', data),3)}\")\n",
    "print(f\"CS Growth strategy SR: {round(sharpe_ratio('gcs_strategy', data),3)}\")"
   ]
  },
  {
   "attachments": {},
   "cell_type": "markdown",
   "metadata": {},
   "source": [
    "#### Check existance of alpha for each strategy."
   ]
  },
  {
   "cell_type": "code",
   "execution_count": 51,
   "metadata": {},
   "outputs": [
    {
     "name": "stdout",
     "output_type": "stream",
     "text": [
      "                            OLS Regression Results                            \n",
      "==============================================================================\n",
      "Dep. Variable:            cs_strategy   R-squared:                       0.897\n",
      "Model:                            OLS   Adj. R-squared:                  0.897\n",
      "Method:                 Least Squares   F-statistic:                     9882.\n",
      "Date:                Sat, 06 May 2023   Prob (F-statistic):               0.00\n",
      "Time:                        17:56:44   Log-Likelihood:                 2147.5\n",
      "No. Observations:                1141   AIC:                            -4291.\n",
      "Df Residuals:                    1139   BIC:                            -4281.\n",
      "Df Model:                           1                                         \n",
      "Covariance Type:            nonrobust                                         \n",
      "==============================================================================\n",
      "                 coef    std err          t      P>|t|      [0.025      0.975]\n",
      "------------------------------------------------------------------------------\n",
      "const          0.0038      0.001      3.430      0.001       0.002       0.006\n",
      "r_actual       2.0122      0.020     99.409      0.000       1.973       2.052\n",
      "==============================================================================\n",
      "Omnibus:                      170.989   Durbin-Watson:                   2.087\n",
      "Prob(Omnibus):                  0.000   Jarque-Bera (JB):             2391.297\n",
      "Skew:                           0.039   Prob(JB):                         0.00\n",
      "Kurtosis:                      10.092   Cond. No.                         18.5\n",
      "==============================================================================\n",
      "\n",
      "Notes:\n",
      "[1] Standard Errors assume that the covariance matrix of the errors is correctly specified.\n"
     ]
    }
   ],
   "source": [
    "endog = data['cs_strategy']\n",
    "exog = sm.add_constant(data['r_actual'])\n",
    "\n",
    "reg = sm.OLS(endog, exog).fit()\n",
    "print(reg.summary())"
   ]
  },
  {
   "cell_type": "code",
   "execution_count": 52,
   "metadata": {},
   "outputs": [
    {
     "name": "stdout",
     "output_type": "stream",
     "text": [
      "                            OLS Regression Results                            \n",
      "==============================================================================\n",
      "Dep. Variable:        cs_strategy_lag   R-squared:                       0.889\n",
      "Model:                            OLS   Adj. R-squared:                  0.889\n",
      "Method:                 Least Squares   F-statistic:                     9119.\n",
      "Date:                Sat, 06 May 2023   Prob (F-statistic):               0.00\n",
      "Time:                        17:56:44   Log-Likelihood:                 2034.4\n",
      "No. Observations:                1141   AIC:                            -4065.\n",
      "Df Residuals:                    1139   BIC:                            -4055.\n",
      "Df Model:                           1                                         \n",
      "Covariance Type:            nonrobust                                         \n",
      "==============================================================================\n",
      "                 coef    std err          t      P>|t|      [0.025      0.975]\n",
      "------------------------------------------------------------------------------\n",
      "const          0.0016      0.001      1.310      0.190      -0.001       0.004\n",
      "r_actual       2.1344      0.022     95.494      0.000       2.091       2.178\n",
      "==============================================================================\n",
      "Omnibus:                      139.604   Durbin-Watson:                   2.050\n",
      "Prob(Omnibus):                  0.000   Jarque-Bera (JB):              941.775\n",
      "Skew:                          -0.326   Prob(JB):                    3.13e-205\n",
      "Kurtosis:                       7.403   Cond. No.                         18.5\n",
      "==============================================================================\n",
      "\n",
      "Notes:\n",
      "[1] Standard Errors assume that the covariance matrix of the errors is correctly specified.\n"
     ]
    }
   ],
   "source": [
    "endog = data['cs_strategy_lag']\n",
    "\n",
    "reg = sm.OLS(endog, exog).fit()\n",
    "print(reg.summary())"
   ]
  },
  {
   "cell_type": "code",
   "execution_count": 53,
   "metadata": {},
   "outputs": [
    {
     "name": "stdout",
     "output_type": "stream",
     "text": [
      "                            OLS Regression Results                            \n",
      "==============================================================================\n",
      "Dep. Variable:           gcs_strategy   R-squared:                       0.990\n",
      "Model:                            OLS   Adj. R-squared:                  0.990\n",
      "Method:                 Least Squares   F-statistic:                 1.092e+05\n",
      "Date:                Sat, 06 May 2023   Prob (F-statistic):               0.00\n",
      "Time:                        17:56:44   Log-Likelihood:                 3857.9\n",
      "No. Observations:                1141   AIC:                            -7712.\n",
      "Df Residuals:                    1139   BIC:                            -7702.\n",
      "Df Model:                           1                                         \n",
      "Covariance Type:            nonrobust                                         \n",
      "==============================================================================\n",
      "                 coef    std err          t      P>|t|      [0.025      0.975]\n",
      "------------------------------------------------------------------------------\n",
      "const       8.109e-05      0.000      0.331      0.741      -0.000       0.001\n",
      "r_actual       1.4939      0.005    330.449      0.000       1.485       1.503\n",
      "==============================================================================\n",
      "Omnibus:                      297.477   Durbin-Watson:                   1.911\n",
      "Prob(Omnibus):                  0.000   Jarque-Bera (JB):             3189.479\n",
      "Skew:                          -0.881   Prob(JB):                         0.00\n",
      "Kurtosis:                      10.999   Cond. No.                         18.5\n",
      "==============================================================================\n",
      "\n",
      "Notes:\n",
      "[1] Standard Errors assume that the covariance matrix of the errors is correctly specified.\n"
     ]
    }
   ],
   "source": [
    "endog = data['gcs_strategy']\n",
    "\n",
    "reg = sm.OLS(endog, exog).fit()\n",
    "print(reg.summary())"
   ]
  },
  {
   "cell_type": "code",
   "execution_count": 54,
   "metadata": {},
   "outputs": [
    {
     "data": {
      "image/png": "[encoded data removed]",
      "text/plain": [
       "<Figure size 720x576 with 1 Axes>"
      ]
     },
     "metadata": {
      "needs_background": "light"
     },
     "output_type": "display_data"
    }
   ],
   "source": [
    "plot_cumulative_returns(data[data.yyyymm > \"01-01-2013\"], 'r_actual', 'cs_strategy', 'Actual Returns', 'Corporate Spread Strategy Returns')"
   ]
  }
 ],
 "metadata": {
  "kernelspec": {
   "display_name": "base",
   "language": "python",
   "name": "python3"
  },
  "language_info": {
   "codemirror_mode": {
    "name": "ipython",
    "version": 3
   },
   "file_extension": ".py",
   "mimetype": "text/x-python",
   "name": "python",
   "nbconvert_exporter": "python",
   "pygments_lexer": "ipython3",
   "version": "3.8.5"
  },
  "orig_nbformat": 4
 },
 "nbformat": 4,
 "nbformat_minor": 2
}
