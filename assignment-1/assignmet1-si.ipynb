{
 "cells": [
  {
   "attachments": {},
   "cell_type": "markdown",
   "metadata": {},
   "source": [
    "## **Assignment 1 - Systematic Investments**\n",
    "\n",
    "### **Variance Decomposition of Returns**\n",
    "\n",
    "53127 - Miguel Teodoro\n"
   ]
  },
  {
   "attachments": {},
   "cell_type": "markdown",
   "metadata": {},
   "source": [
    "The variance decomposition of returns is a method used to determine the proportion of total variance in returns that is attributed to different sources of risk. In this case, we are interested in decomposing the variance of returns for investment-grade (IG) bonds into two components: the rate component and the spread component.\n",
    "\n",
    "The rate component refers to the interest rate risk inherent in bond investments. As interest rates rise or fall, the value of a bond will fluctuate accordingly. The spread component, on the other hand, is the risk associated with the credit quality of the issuer. As the creditworthiness of the issuer improves or deteriorates, the spread between the bond yield and the risk-free rate will also change, affecting the value of the bond.\n",
    "\n",
    "To compute the fraction of variance across the two components of IG total returns, we can use two different approaches: the formula approach and the regression approach."
   ]
  },
  {
   "cell_type": "code",
   "execution_count": 2,
   "metadata": {},
   "outputs": [
    {
     "name": "stderr",
     "output_type": "stream",
     "text": [
      "c:\\Users\\migue\\anaconda3\\lib\\site-packages\\pandas\\core\\computation\\expressions.py:20: UserWarning: Pandas requires version '2.7.3' or newer of 'numexpr' (version '2.7.1' currently installed).\n",
      "  from pandas.core.computation.check import NUMEXPR_INSTALLED\n"
     ]
    }
   ],
   "source": [
    "import pandas as pd\n",
    "import numpy as np\n",
    "import openpyxl"
   ]
  },
  {
   "cell_type": "code",
   "execution_count": 3,
   "metadata": {},
   "outputs": [],
   "source": [
    "data = pd.read_excel('data_assignment1_si.xlsx')"
   ]
  },
  {
   "cell_type": "code",
   "execution_count": 4,
   "metadata": {},
   "outputs": [
    {
     "data": {
      "text/html": [
       "<div>\n",
       "<style scoped>\n",
       "    .dataframe tbody tr th:only-of-type {\n",
       "        vertical-align: middle;\n",
       "    }\n",
       "\n",
       "    .dataframe tbody tr th {\n",
       "        vertical-align: top;\n",
       "    }\n",
       "\n",
       "    .dataframe thead th {\n",
       "        text-align: right;\n",
       "    }\n",
       "</style>\n",
       "<table border=\"1\" class=\"dataframe\">\n",
       "  <thead>\n",
       "    <tr style=\"text-align: right;\">\n",
       "      <th></th>\n",
       "      <th>Date</th>\n",
       "      <th>rr</th>\n",
       "      <th>rc</th>\n",
       "      <th>rp</th>\n",
       "    </tr>\n",
       "  </thead>\n",
       "  <tbody>\n",
       "    <tr>\n",
       "      <th>0</th>\n",
       "      <td>1996-12-31</td>\n",
       "      <td>-0.0025</td>\n",
       "      <td>0.0000</td>\n",
       "      <td>-0.0025</td>\n",
       "    </tr>\n",
       "    <tr>\n",
       "      <th>1</th>\n",
       "      <td>1997-01-31</td>\n",
       "      <td>0.0000</td>\n",
       "      <td>0.0002</td>\n",
       "      <td>0.0002</td>\n",
       "    </tr>\n",
       "    <tr>\n",
       "      <th>2</th>\n",
       "      <td>1997-02-28</td>\n",
       "      <td>0.0001</td>\n",
       "      <td>0.0006</td>\n",
       "      <td>0.0007</td>\n",
       "    </tr>\n",
       "    <tr>\n",
       "      <th>3</th>\n",
       "      <td>1997-03-31</td>\n",
       "      <td>-0.0026</td>\n",
       "      <td>-0.0002</td>\n",
       "      <td>-0.0028</td>\n",
       "    </tr>\n",
       "    <tr>\n",
       "      <th>4</th>\n",
       "      <td>1997-04-30</td>\n",
       "      <td>0.0030</td>\n",
       "      <td>-0.0003</td>\n",
       "      <td>0.0027</td>\n",
       "    </tr>\n",
       "    <tr>\n",
       "      <th>...</th>\n",
       "      <td>...</td>\n",
       "      <td>...</td>\n",
       "      <td>...</td>\n",
       "      <td>...</td>\n",
       "    </tr>\n",
       "    <tr>\n",
       "      <th>226</th>\n",
       "      <td>2015-10-30</td>\n",
       "      <td>-0.0010</td>\n",
       "      <td>0.0021</td>\n",
       "      <td>0.0011</td>\n",
       "    </tr>\n",
       "    <tr>\n",
       "      <th>227</th>\n",
       "      <td>2015-11-30</td>\n",
       "      <td>-0.0011</td>\n",
       "      <td>0.0005</td>\n",
       "      <td>-0.0006</td>\n",
       "    </tr>\n",
       "    <tr>\n",
       "      <th>228</th>\n",
       "      <td>2015-12-31</td>\n",
       "      <td>-0.0004</td>\n",
       "      <td>-0.0015</td>\n",
       "      <td>-0.0019</td>\n",
       "    </tr>\n",
       "    <tr>\n",
       "      <th>229</th>\n",
       "      <td>2016-01-29</td>\n",
       "      <td>0.0061</td>\n",
       "      <td>-0.0052</td>\n",
       "      <td>0.0009</td>\n",
       "    </tr>\n",
       "    <tr>\n",
       "      <th>230</th>\n",
       "      <td>2016-02-29</td>\n",
       "      <td>0.0027</td>\n",
       "      <td>-0.0008</td>\n",
       "      <td>0.0019</td>\n",
       "    </tr>\n",
       "  </tbody>\n",
       "</table>\n",
       "<p>231 rows × 4 columns</p>\n",
       "</div>"
      ],
      "text/plain": [
       "          Date      rr      rc      rp\n",
       "0   1996-12-31 -0.0025  0.0000 -0.0025\n",
       "1   1997-01-31  0.0000  0.0002  0.0002\n",
       "2   1997-02-28  0.0001  0.0006  0.0007\n",
       "3   1997-03-31 -0.0026 -0.0002 -0.0028\n",
       "4   1997-04-30  0.0030 -0.0003  0.0027\n",
       "..         ...     ...     ...     ...\n",
       "226 2015-10-30 -0.0010  0.0021  0.0011\n",
       "227 2015-11-30 -0.0011  0.0005 -0.0006\n",
       "228 2015-12-31 -0.0004 -0.0015 -0.0019\n",
       "229 2016-01-29  0.0061 -0.0052  0.0009\n",
       "230 2016-02-29  0.0027 -0.0008  0.0019\n",
       "\n",
       "[231 rows x 4 columns]"
      ]
     },
     "execution_count": 4,
     "metadata": {},
     "output_type": "execute_result"
    }
   ],
   "source": [
    "data.rename(columns={'Unnamed: 0': 'Date', 'Rate Return': 'rr', 'Spread Return': 'rc'}, inplace=True)\n",
    "data"
   ]
  },
  {
   "attachments": {},
   "cell_type": "markdown",
   "metadata": {},
   "source": [
    "### **Formula Approach**"
   ]
  },
  {
   "cell_type": "code",
   "execution_count": 5,
   "metadata": {},
   "outputs": [],
   "source": [
    "# Function to calculate variance\n",
    "def variance(col, df=data):\n",
    "    return np.var(df[col])\n",
    "\n",
    "# Function to calculate standard deviation\n",
    "def stdev(col, df=data):\n",
    "    return variance(col) ** 0.5\n",
    "\n",
    "# Function to calculate covariance\n",
    "def covariance(col1, col2, df=data):\n",
    "    cov = df[col1].corr(df[col2]) * stdev(col1) * stdev(col2)\n",
    "    return cov"
   ]
  },
  {
   "cell_type": "code",
   "execution_count": 6,
   "metadata": {},
   "outputs": [
    {
     "data": {
      "text/plain": [
       "9.708261464365362e-06"
      ]
     },
     "execution_count": 6,
     "metadata": {},
     "output_type": "execute_result"
    }
   ],
   "source": [
    "variance('rp')"
   ]
  },
  {
   "cell_type": "code",
   "execution_count": 7,
   "metadata": {},
   "outputs": [
    {
     "name": "stdout",
     "output_type": "stream",
     "text": [
      "Var(rr): 0.00000866\n",
      "Var(rc): 0.00000659\n",
      "Cov(rr,rc): -0.00000277 \n",
      "\n",
      "Var(rp): 0.00000971\n",
      "Var(rp) matches itself: True\n"
     ]
    }
   ],
   "source": [
    "var_rr = variance('rr')\n",
    "var_rc = variance('rc')\n",
    "cov_rr_rc = covariance('rr', 'rc')\n",
    "\n",
    "var_rp = var_rr + var_rc + 2 * cov_rr_rc\n",
    "\n",
    "print(f\"Var(rr): {var_rr:.8f}\")\n",
    "print(f\"Var(rc): {var_rc:.8f}\")\n",
    "print(f\"Cov(rr,rc): {cov_rr_rc:.8f} \\n\")\n",
    "print(f\"Var(rp): {var_rp:.8f}\")\n",
    "print(f\"Var(rp) matches itself: {round(var_rp,10)==round(variance('rp'),10)}\")"
   ]
  },
  {
   "cell_type": "code",
   "execution_count": 8,
   "metadata": {},
   "outputs": [
    {
     "name": "stdout",
     "output_type": "stream",
     "text": [
      "Part of Total Variance explained by Rate: 60.672 %\n",
      "Part of Total Variance explained by Spread: 39.328 %\n",
      "Confirm values sum to one: 1.0\n"
     ]
    }
   ],
   "source": [
    "explained_rr = (var_rr + cov_rr_rc) / var_rp\n",
    "explained_rc = (var_rc + cov_rr_rc) / var_rp\n",
    "\n",
    "print(f'Part of Total Variance explained by Rate: {explained_rr*100:.3f} %')\n",
    "print(f'Part of Total Variance explained by Spread: {explained_rc*100:.3f} %')\n",
    "print(f'Confirm values sum to one: {round(explained_rr + explained_rc, 5)}')"
   ]
  },
  {
   "attachments": {},
   "cell_type": "markdown",
   "metadata": {},
   "source": [
    "### **Regression Approach**"
   ]
  },
  {
   "cell_type": "code",
   "execution_count": 9,
   "metadata": {},
   "outputs": [
    {
     "name": "stdout",
     "output_type": "stream",
     "text": [
      "Part of Total Variance explained by Rate: 60.672 %\n",
      "Part of Total Variance explained by Spread: 39.328 %\n",
      "Confirm values sum to one: 1.0\n"
     ]
    }
   ],
   "source": [
    "var_rp = variance('rp')\n",
    "beta_r = (var_rr + cov_rr_rc) / var_rp\n",
    "beta_c = (var_rc + cov_rr_rc) / var_rp\n",
    "\n",
    "print(f'Part of Total Variance explained by Rate: {beta_r*100:.3f} %')\n",
    "print(f'Part of Total Variance explained by Spread: {beta_c*100:.3f} %')\n",
    "print(f'Confirm values sum to one: {round(beta_r + beta_c, 5)}')"
   ]
  }
 ],
 "metadata": {
  "kernelspec": {
   "display_name": "base",
   "language": "python",
   "name": "python3"
  },
  "language_info": {
   "codemirror_mode": {
    "name": "ipython",
    "version": 3
   },
   "file_extension": ".py",
   "mimetype": "text/x-python",
   "name": "python",
   "nbconvert_exporter": "python",
   "pygments_lexer": "ipython3",
   "version": "3.8.5"
  },
  "orig_nbformat": 4,
  "vscode": {
   "interpreter": {
    "hash": "506d569f0b28ea103188d4d9f745b7b2b85d3e31dafde01bdf7899299ac0033b"
   }
  }
 },
 "nbformat": 4,
 "nbformat_minor": 2
}
